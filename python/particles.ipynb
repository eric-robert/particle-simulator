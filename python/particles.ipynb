{
 "cells": [
  {
   "cell_type": "markdown",
   "metadata": {},
   "source": [
    "## Setup"
   ]
  },
  {
   "cell_type": "code",
   "execution_count": 2288,
   "metadata": {},
   "outputs": [],
   "source": [
    "import numpy as np\n",
    "import cv2, os\n",
    "import matplotlib.pyplot as plt\n",
    "import random, math\n",
    "import glob\n",
    "from PIL import Image"
   ]
  },
  {
   "cell_type": "code",
   "execution_count": 2289,
   "metadata": {},
   "outputs": [],
   "source": [
    "# Square map of size nxn pixels\n",
    "MAP_SIZE = 300\n",
    "\n",
    "# Number of agents simulate in the map\n",
    "AGENTS_NUM = 50000\n",
    "\n",
    "# How heavy the blur is on the map\n",
    "# Which is used to spread out trails\n",
    "BLUR_STRENTH = 3\n",
    "\n",
    "# How fast trails fade to 0\n",
    "# Trails are multipled by this value every step\n",
    "DISSIPATE_TARGET = 200000\n",
    "\n",
    "# How much the trails effect the agents\n",
    "NUDGE_STRENGTH = 2\n",
    "\n",
    "# How much time passes per frame\n",
    "STEP_SIZE = 1\n",
    "\n",
    "# How large the initial collection of agents is spread out\n",
    "CIRCLE_SIZE = 0.4\n",
    "\n",
    "# How mant itterations to run\n",
    "ITERATIONS = 500\n",
    "RENDER_SPEED = 1\n",
    "\n",
    "# Trail Strength\n",
    "TRAIL_STRENGTH = 1\n",
    "\n",
    "# Max Speed\n",
    "SPEED = 1\n",
    "LOOK_DISTANCE = 5\n",
    "\n",
    "# MAx Acceleration\n",
    "MAX_ACCELERATION = 0.5\n",
    "\n",
    "# OOB nudge\n",
    "OOB_NUDGE = 0.0\n",
    "OOB_POWER = 0.0\n"
   ]
  },
  {
   "cell_type": "markdown",
   "metadata": {},
   "source": [
    "## Initialization"
   ]
  },
  {
   "cell_type": "code",
   "execution_count": 2290,
   "metadata": {},
   "outputs": [],
   "source": [
    "texture_map = None\n",
    "agents = None\n",
    "\n",
    "def sign (i):\n",
    "    if i >= 0:\n",
    "        return 1\n",
    "    elif i < 0:\n",
    "        return -1\n",
    "\n",
    "def init_scene ():\n",
    "    global texture_map\n",
    "    global agents\n",
    "\n",
    "    # Create the map\n",
    "    texture_map = np.random.random((MAP_SIZE, MAP_SIZE))/100\n",
    "\n",
    "    # Update circle size\n",
    "    _circle = int(CIRCLE_SIZE * MAP_SIZE)\n",
    "\n",
    "    # Give the agents some positions towards the middle\n",
    "    agents = np.zeros((AGENTS_NUM, 4))\n",
    "    for i in range(AGENTS_NUM):\n",
    "        while True:\n",
    "            x = random.randint(-_circle, _circle)\n",
    "            y = random.randint(-_circle, _circle)\n",
    "            if x ** 2 + y ** 2 > _circle ** 2:\n",
    "                continue\n",
    "            agents[i, 0] = x + MAP_SIZE / 2\n",
    "            agents[i, 1] = y + MAP_SIZE / 2\n",
    "            agents[i, 2] = (random.random() - 0.5) * 10\n",
    "            agents[i, 3] = (random.random() - 0.5) * 10\n",
    "            \n",
    "            break\n",
    "    agents += np.random.rand(AGENTS_NUM, 4) * 0.1"
   ]
  },
  {
   "cell_type": "markdown",
   "metadata": {},
   "source": [
    "## Simulation Steps"
   ]
  },
  {
   "cell_type": "code",
   "execution_count": 2291,
   "metadata": {},
   "outputs": [],
   "source": [
    "# Blurrs the map and then reduces the intensity of the map\n",
    "def dissipate_trails ( _map ) :\n",
    "    _map += np.random.random((MAP_SIZE, MAP_SIZE))/4\n",
    "    _blurred = cv2.GaussianBlur(_map,(BLUR_STRENTH,BLUR_STRENTH),0)\n",
    "    _blurred[_blurred > 20] = 20\n",
    "    while _blurred.sum() > DISSIPATE_TARGET:\n",
    "        _blurred *= 0.95\n",
    "    _map[:,:] = _blurred\n",
    "    return _blurred\n"
   ]
  },
  {
   "cell_type": "code",
   "execution_count": 2292,
   "metadata": {},
   "outputs": [],
   "source": [
    "# Moves the adgents along the map basted on their trails\n",
    "def update_agents ( _map, _agents ):\n",
    "\n",
    "    # Compute the agents and the gradient\n",
    "    integer_positions = np.rint(_agents[:,:2]).astype(int)\n",
    "    integer_velocity = np.rint(_agents[:,2:]).astype(int)\n",
    "\n",
    "    forward_look = (integer_velocity * LOOK_DISTANCE)\n",
    "\n",
    "    left_look = np.zeros((AGENTS_NUM, 2))\n",
    "    left_look[:,0] = forward_look[:,1]\n",
    "    left_look[:,1] = -forward_look[:,0]\n",
    "\n",
    "    right_look = np.zeros((AGENTS_NUM, 2))\n",
    "    right_look[:,0] = -forward_look[:,1]\n",
    "    right_look[:,1] = forward_look[:,0]\n",
    "\n",
    "    forward_cast = (integer_positions + forward_look).astype(int)\n",
    "    forward_cast[forward_cast > MAP_SIZE - 1] = MAP_SIZE - 1\n",
    "    forward_cast[forward_cast < 0] = 0\n",
    "    strength_forward = _map[forward_cast[:,0], forward_cast[:,1]]\n",
    "\n",
    "    left_cast = (integer_positions + left_look).astype(int)\n",
    "    left_cast[left_cast > MAP_SIZE - 1] = MAP_SIZE - 1\n",
    "    left_cast[left_cast < 0] = 0\n",
    "    strength_left = _map[left_cast[:,0], left_cast[:,1]]\n",
    "\n",
    "    right_cast = (integer_positions + right_look).astype(int)\n",
    "    right_cast[right_cast > MAP_SIZE - 1] = MAP_SIZE - 1\n",
    "    right_cast[right_cast < 0] = 0\n",
    "    strength_right = _map[right_cast[:,0], right_cast[:,1]]\n",
    "    \n",
    "    # Compute weighted average of the strengths\n",
    "    total_strength = strength_forward + strength_left + strength_right\n",
    "\n",
    "    percentage_forward = strength_forward / total_strength\n",
    "    percentage_left = strength_left / total_strength\n",
    "    percentage_right = strength_right / total_strength\n",
    "\n",
    "    # Target_vel\n",
    "    invert_vel = np.zeros((AGENTS_NUM, 2))\n",
    "    invert_vel[:,0] = _agents[:,3]\n",
    "    invert_vel[:,1] = -_agents[:,2]\n",
    "\n",
    "    target_vel = np.zeros((AGENTS_NUM, 2))\n",
    "\n",
    "    target_vel[:,0] += _agents[:,2] * percentage_forward\n",
    "    target_vel[:,0] += invert_vel[:,0] * percentage_left\n",
    "    target_vel[:,0] -= invert_vel[:,0] * percentage_right\n",
    "\n",
    "    target_vel[:,1] += _agents[:,3] * percentage_forward\n",
    "    target_vel[:,1] += invert_vel[:,1] * percentage_left\n",
    "    target_vel[:,1] -= invert_vel[:,1] * percentage_right\n",
    "\n",
    "\n",
    "    _agents[:,2:] += target_vel * STEP_SIZE * NUDGE_STRENGTH\n",
    "\n",
    "    _velocity = np.sqrt(_agents[:,2] ** 2 + _agents[:,3] ** 2)\n",
    "    _agents[:,2] *= SPEED/_velocity\n",
    "    _agents[:,3] *= SPEED/_velocity\n",
    "\n",
    "    _agents[:,0] += _agents[:,2] * STEP_SIZE\n",
    "    _agents[:,1] += _agents[:,3] * STEP_SIZE\n",
    "\n",
    "    # Find and correct out of bounds agents\n",
    "    _x_oob = np.any([_agents[:,0] <= 0, _agents[:,0] >= MAP_SIZE-1], axis=0)\n",
    "    _y_oob = np.any([_agents[:,1] <= 0, _agents[:,1] >= MAP_SIZE-1], axis=0)\n",
    "\n",
    "    _agents[:,0] = np.clip(_agents[:,0], 0, MAP_SIZE-1)\n",
    "    _agents[:,1] = np.clip(_agents[:,1], 0, MAP_SIZE-1)\n",
    "\n",
    "    # Bounce off the walls\n",
    "    _agents[:,2][_x_oob] *=  np.random.random((1))[0]/3 - 1.17\n",
    "    _agents[:,3][_y_oob] *=  np.random.random((1))[0]/3 - 1.17\n",
    "\n",
    "    # _agents[:,2][_agents[:,0] > 200] -= (_agents[:,0][_agents[:,0] > 200] - (MAP_SIZE/2))/400\n",
    "    # _agents[:,3][_agents[:,1] > 200] -= (_agents[:,1][_agents[:,1] > 200] - (MAP_SIZE/2))/400\n",
    "    # _agents[:,2][_agents[:,0] < 100] -= (_agents[:,0][_agents[:,0] < 100] - (MAP_SIZE/2))/400\n",
    "    # _agents[:,3][_agents[:,1] < 100] -= (_agents[:,1][_agents[:,1] < 100] - (MAP_SIZE/2))/400\n",
    "    \n",
    "\n",
    "    # Find the agents that are out of bounds\n",
    "    # oob = int(OOB_NUDGE * MAP_SIZE)\n",
    "    # _oob = np.any([agents[:,0] < oob, agents[:,0] >= MAP_SIZE-oob, agents[:,1] < oob, agents[:,1] >= MAP_SIZE-oob], axis=0)\n",
    "\n",
    "    # Nudge the agents back into the map\n",
    "    # _agents[:,2][_oob] -= np.sign(_agents[:,0][_oob] - MAP_SIZE//2) * OOB_POWER\n",
    "    # _agents[:,3][_oob] -= np.sign(_agents[:,1][_oob] - MAP_SIZE//2) * OOB_POWER\n",
    "\n",
    "    # Scale to speed\n",
    "    "
   ]
  },
  {
   "cell_type": "code",
   "execution_count": 2293,
   "metadata": {},
   "outputs": [],
   "source": [
    "# Lays trails down on the map\n",
    "def lay_trails ( _map, _agents ):\n",
    "    integer_positions = np.rint(_agents[:,:2]).astype(int)\n",
    "    _map[integer_positions[:,0], integer_positions[:,1]] += TRAIL_STRENGTH"
   ]
  },
  {
   "cell_type": "code",
   "execution_count": 2294,
   "metadata": {},
   "outputs": [],
   "source": [
    "# Highlights the agents on the map\n",
    "def tag_agents ( _map, _agents, offset):\n",
    "\n",
    "    _intensity = 1\n",
    "    integer_positions = np.rint(_agents[:,:2]).astype(int)\n",
    "    integer_positions += offset\n",
    "    \n",
    "    # _map[integer_positions[:,0], integer_positions[:,1]] = _intensity\n",
    "    \n",
    "    # _map[integer_positions[:,0]-1, integer_positions[:,1]] = _intensity\n",
    "    # _map[integer_positions[:,0], integer_positions[:,1]-1] = _intensity\n",
    "    # _map[integer_positions[:,0]+1, integer_positions[:,1]] = _intensity\n",
    "    # _map[integer_positions[:,0], integer_positions[:,1]+1] = _intensity\n",
    "\n",
    "    # _map[integer_positions[:,0]-1, integer_positions[:,1]-1] = _intensity\n",
    "    # _map[integer_positions[:,0]+1, integer_positions[:,1]-1] = _intensity\n",
    "    # _map[integer_positions[:,0]+1, integer_positions[:,1]+1] = _intensity\n",
    "    # _map[integer_positions[:,0]-1, integer_positions[:,1]+1] = _intensity"
   ]
  },
  {
   "cell_type": "code",
   "execution_count": 2295,
   "metadata": {},
   "outputs": [],
   "source": [
    "# A single step\n",
    "def simulation_step (_map, _agents):\n",
    "    dissipate_trails(_map)\n",
    "    update_agents(_map, _agents)\n",
    "    lay_trails(_map, _agents)"
   ]
  },
  {
   "cell_type": "markdown",
   "metadata": {},
   "source": [
    "## Running the sim"
   ]
  },
  {
   "cell_type": "code",
   "execution_count": 2296,
   "metadata": {},
   "outputs": [],
   "source": [
    "# Renders simply to the screen\n",
    "def show_map ( m, save , do) :\n",
    "    \n",
    "    # copy the map to a new array and padd\n",
    "    _map = np.zeros((MAP_SIZE+4, MAP_SIZE+4))\n",
    "    _map[2:-2,2:-2] = m\n",
    "\n",
    "    # Tag the agents\n",
    "    #tag_agents(_map, agents, 2)\n",
    "\n",
    "    # Scale the map\n",
    "    _map = np.log10(_map)\n",
    "    _map = _map / _map.max() * 255\n",
    "    _map[0,0] = 255\n",
    "    \n",
    "    _colored = np.zeros((MAP_SIZE+4, MAP_SIZE+4, 3))\n",
    "    _colored[:,:,1] = _map\n",
    "    _colored[:,:,2] = (_map - 127) * 2\n",
    "    _colored[:,:,0] = 0\n",
    "    _colored[_colored < 0] = -_colored[_colored < 0]\n",
    "    _colored[_colored > 255] = 255 -_colored[_colored > 255] \n",
    "    _colored[_colored < 0] = 0\n",
    "    \n",
    "\n",
    "    _colored = cv2.GaussianBlur(_colored,(BLUR_STRENTH,BLUR_STRENTH),0)\n",
    "\n",
    "    _colored = _colored.astype(np.uint8)\n",
    "\n",
    "\n",
    "    #print(_map.min(), _map.max())\n",
    "\n",
    "    #plt.imshow(_map, cmap='gray')\n",
    "\n",
    "    if not do: return\n",
    "\n",
    "    # Render the map\n",
    "    \n",
    "    im = Image.fromarray(_colored)\n",
    "    if im.mode != 'RGB':\n",
    "        im = im.convert('RGB')\n",
    "    im.save(f'results/{save[0]}/saves/{save[1]}.png')"
   ]
  },
  {
   "cell_type": "code",
   "execution_count": 2297,
   "metadata": {},
   "outputs": [],
   "source": [
    "def run_simulation ():\n",
    "\n",
    "    global texture_map\n",
    "\n",
    "    # Setup Saving\n",
    "    run_id = str(random.randint(0, 1000000))\n",
    "    os.mkdir(f'results/{run_id}')\n",
    "    os.mkdir(f'results/{run_id}/saves')\n",
    "    print(f'Saving as {run_id}')\n",
    "\n",
    "    # Initialize the scene\n",
    "    init_scene()\n",
    "\n",
    "    # Run the simulation\n",
    "    for i in range(ITERATIONS):\n",
    "        print(f'{i+1}/{ITERATIONS}', end='\\r')\n",
    "        simulation_step(texture_map, agents)\n",
    "        show_map(texture_map, (run_id, str.rjust(str(i),4,'0')), i % RENDER_SPEED == 0)\n",
    "        # For fun\n",
    "        # if i % 200 <= 0:\n",
    "        #     texture_map = np.zeros((MAP_SIZE, MAP_SIZE))\n",
    "        \n",
    "    return run_id"
   ]
  },
  {
   "cell_type": "code",
   "execution_count": 2298,
   "metadata": {},
   "outputs": [
    {
     "data": {
      "text/plain": [
       "array([0., 0.])"
      ]
     },
     "execution_count": 2298,
     "metadata": {},
     "output_type": "execute_result"
    }
   ],
   "source": [
    "f = np.zeros((5,5))\n",
    "i = np.array([[4,4],[2,4]])\n",
    "\n",
    "f[i[:,0], i[:,1]]"
   ]
  },
  {
   "cell_type": "code",
   "execution_count": 2299,
   "metadata": {},
   "outputs": [
    {
     "name": "stdout",
     "output_type": "stream",
     "text": [
      "Saving as 814999\n",
      "4/500\r"
     ]
    },
    {
     "name": "stderr",
     "output_type": "stream",
     "text": [
      "/var/folders/qp/hbpqxyfj631fq96_xtnnjnpw0000gn/T/ipykernel_7497/654406501.py:12: RuntimeWarning: divide by zero encountered in log10\n",
      "  _map = np.log10(_map)\n"
     ]
    },
    {
     "name": "stdout",
     "output_type": "stream",
     "text": [
      "500/500\r"
     ]
    }
   ],
   "source": [
    "sim_id = run_simulation()"
   ]
  },
  {
   "cell_type": "markdown",
   "metadata": {},
   "source": [
    "## Visualize the results"
   ]
  },
  {
   "cell_type": "code",
   "execution_count": 2300,
   "metadata": {},
   "outputs": [],
   "source": [
    "def compile_results ( _id ):\n",
    "\n",
    "    # Load all the images\n",
    "    images = glob.glob(f\"results/{sim_id}/saves/*.png\")\n",
    "    images.sort()\n",
    "\n",
    "    frames = [Image.open(image) for image in images]\n",
    "    frame_one = frames[0]\n",
    "    frame_one.save(f\"results/{_id}/out.gif\", format=\"GIF\", append_images=frames,\n",
    "               save_all=True, duration=20, loop=0)\n",
    "    "
   ]
  },
  {
   "cell_type": "code",
   "execution_count": 2301,
   "metadata": {},
   "outputs": [
    {
     "name": "stdout",
     "output_type": "stream",
     "text": [
      "814999\n"
     ]
    }
   ],
   "source": [
    "# Create gif and show it\n",
    "compile_results( sim_id )\n",
    "os.system(f\"open results/{sim_id}/out.gif -a Firefox\")\n",
    "print(sim_id)"
   ]
  }
 ],
 "metadata": {
  "interpreter": {
   "hash": "343eb504b1df07b4e679b3a87f5cf6ccdf486ae45875dafb292debd4ce2bbad6"
  },
  "kernelspec": {
   "display_name": "Python 3.9.10 ('slime-AlzhQQX2')",
   "language": "python",
   "name": "python3"
  },
  "language_info": {
   "codemirror_mode": {
    "name": "ipython",
    "version": 3
   },
   "file_extension": ".py",
   "mimetype": "text/x-python",
   "name": "python",
   "nbconvert_exporter": "python",
   "pygments_lexer": "ipython3",
   "version": "3.9.12"
  },
  "orig_nbformat": 4
 },
 "nbformat": 4,
 "nbformat_minor": 2
}
